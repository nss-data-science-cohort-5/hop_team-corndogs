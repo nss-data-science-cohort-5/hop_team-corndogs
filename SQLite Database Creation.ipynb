{
 "cells": [
  {
   "cell_type": "code",
   "execution_count": 3,
   "metadata": {},
   "outputs": [],
   "source": [
    "import pandas as pd\n",
    "import sqlite3\n",
    "from tqdm.notebook import tqdm\n",
    "import warnings\n",
    "\n",
    "# Ignore warnings throughout the code\n",
    "warnings.filterwarnings(\"ignore\")"
   ]
  },
  {
   "cell_type": "code",
   "execution_count": null,
   "metadata": {},
   "outputs": [],
   "source": [
    "# Chunking hop_teaming csv and adding it as a table to a SQLite DB\n",
    "db = sqlite3.connect('data/healthcare_bluebook.sqlite')\n",
    "\n",
    "for chunk in tqdm(pd.read_csv('data/DocGraph_Hop_Teaming_2018.csv', chunksize = 100000)):\n",
    "    chunk.columns = [x.lower().replace(' ', '_') for x in chunk.columns]\n",
    "    chunk = chunk[(chunk['transaction_count'] >= 50) & (chunk['average_day_wait'] < 50)]\n",
    "    chunk.to_sql('hop', db, if_exists = 'append', index = False)            \n",
    "                  \n",
    "db.close()"
   ]
  },
  {
   "cell_type": "code",
   "execution_count": 4,
   "metadata": {},
   "outputs": [
    {
     "data": {
      "application/vnd.jupyter.widget-view+json": {
       "model_id": "f2cf68b7480c4b6eaf1f9fd1f195a24a",
       "version_major": 2,
       "version_minor": 0
      },
      "text/plain": [
       "HBox(children=(HTML(value=''), FloatProgress(value=1.0, bar_style='info', layout=Layout(width='20px'), max=1.0…"
      ]
     },
     "metadata": {},
     "output_type": "display_data"
    },
    {
     "name": "stdout",
     "output_type": "stream",
     "text": [
      "\n"
     ]
    }
   ],
   "source": [
    "# Chunking npi csv and adding it as a table to a SQLite DB\n",
    "db = sqlite3.connect('data/healthcare_bluebook.sqlite')\n",
    "\n",
    "for chunk in tqdm(pd.read_csv('data/npidata_pfile_20050523-20220213.csv', chunksize = 100000, dtype = str)):\n",
    "    \n",
    "    for counter in range(1,16):\n",
    "        taxonomy_switch = chunk['Healthcare Provider Primary Taxonomy Switch_{}'.format(counter)] == 'Y'\n",
    "        taxonomy_code_check = 'Healthcare Provider Taxonomy Code_{}'.format(counter)\n",
    "        taxonomy_code = chunk.loc[taxonomy_switch, taxonomy_code_check]\n",
    "        chunk.loc[taxonomy_switch, 'Healthcare Provider Taxonomy Code'] = taxonomy_code\n",
    "    \n",
    "    chunk = chunk[['NPI',\n",
    "     'Entity Type Code',\n",
    "     'Provider Organization Name (Legal Business Name)',\n",
    "     'Provider Last Name (Legal Name)',\n",
    "     'Provider First Name',\n",
    "     'Provider Middle Name',\n",
    "     'Provider Name Prefix Text',\n",
    "     'Provider Name Suffix Text',\n",
    "     'Provider Credential Text',\n",
    "     'Provider First Line Business Practice Location Address',\n",
    "     'Provider Second Line Business Practice Location Address',\n",
    "     'Provider Business Practice Location Address City Name',\n",
    "     'Provider Business Practice Location Address State Name',\n",
    "     'Provider Business Practice Location Address Postal Code',\n",
    "     'Healthcare Provider Taxonomy Code']]\n",
    "    \n",
    "    chunk['Provider Business Practice Location Address Postal Code'] = chunk['Provider Business Practice Location Address Postal Code'].fillna(0).str.extract('(\\d+)', expand=False).astype(str)\n",
    "    chunk['Provider Business Practice Location Address Postal Code']  = [zip.replace(zip[:], zip.zfill(5)) if len(zip) < 5 else zip for zip in chunk['Provider Business Practice Location Address Postal Code']]\n",
    "    chunk['Provider Business Practice Location Address Postal Code']  = [zip.replace(zip[:], zip.zfill(9)) if len(zip) > 5 else zip for zip in chunk['Provider Business Practice Location Address Postal Code']]\n",
    "    chunk['Provider Business Practice Location Address Postal Code'] = chunk['Provider Business Practice Location Address Postal Code'].str[:5]\n",
    "    \n",
    "    chunk.columns = [x.lower().replace(' ', '_').replace('(','').replace(')','') for x in chunk.columns]\n",
    "    chunk.to_sql('npi', db, if_exists = 'append', index = False)            \n",
    "                  \n",
    "db.close()"
   ]
  },
  {
   "cell_type": "code",
   "execution_count": 6,
   "metadata": {},
   "outputs": [
    {
     "data": {
      "application/vnd.jupyter.widget-view+json": {
       "model_id": "d8e71e4c386d4058b0ed195ae46a9a13",
       "version_major": 2,
       "version_minor": 0
      },
      "text/plain": [
       "HBox(children=(HTML(value=''), FloatProgress(value=1.0, bar_style='info', layout=Layout(width='20px'), max=1.0…"
      ]
     },
     "metadata": {},
     "output_type": "display_data"
    },
    {
     "name": "stdout",
     "output_type": "stream",
     "text": [
      "\n"
     ]
    }
   ],
   "source": [
    "# Chunking taxonomy csv and adding it as a table to a SQLite DB\n",
    "db = sqlite3.connect('data/healthcare_bluebook.sqlite')\n",
    "\n",
    "for chunk in tqdm(pd.read_csv('data/nucc_taxonomy_220.csv', chunksize = 100000)):\n",
    "    \n",
    "    chunk = chunk[['Code',\n",
    "                   'Grouping',\n",
    "                   'Classification']]\n",
    "    \n",
    "    chunk.columns = [x.lower().replace(' ', '_') for x in chunk.columns]\n",
    "    chunk.to_sql('taxonomy_classification', db, if_exists = 'append', index = False)   \n",
    "                  \n",
    "db.close()"
   ]
  },
  {
   "cell_type": "code",
   "execution_count": 8,
   "metadata": {},
   "outputs": [
    {
     "data": {
      "application/vnd.jupyter.widget-view+json": {
       "model_id": "e13b43544baa4ccabf4082e62e58f9b1",
       "version_major": 2,
       "version_minor": 0
      },
      "text/plain": [
       "HBox(children=(HTML(value=''), FloatProgress(value=1.0, bar_style='info', layout=Layout(width='20px'), max=1.0…"
      ]
     },
     "metadata": {},
     "output_type": "display_data"
    },
    {
     "name": "stdout",
     "output_type": "stream",
     "text": [
      "\n"
     ]
    }
   ],
   "source": [
    "# Chunking cbsa csv and adding it as a table to a SQLite DB\n",
    "db = sqlite3.connect('data/healthcare_bluebook.sqlite')\n",
    "\n",
    "for chunk in tqdm(pd.read_csv('data/ZIP_CBSA_122021.csv', chunksize = 10000, dtype=str)):\n",
    "    \n",
    "    chunk = chunk[['zip', \n",
    "                   'cbsa', \n",
    "                   'usps_zip_pref_city', \n",
    "                   'usps_zip_pref_state']]\n",
    "    \n",
    "    chunk.columns = [x.lower().replace(' ', '_') for x in chunk.columns]\n",
    "    chunk.to_sql('cbsa', db, if_exists = 'append', index = False)   \n",
    "              \n",
    "db.close()"
   ]
  },
  {
   "cell_type": "code",
   "execution_count": 13,
   "metadata": {},
   "outputs": [
    {
     "ename": "OperationalError",
     "evalue": "index city_name already exists",
     "output_type": "error",
     "traceback": [
      "\u001b[1;31m---------------------------------------------------------------------------\u001b[0m",
      "\u001b[1;31mOperationalError\u001b[0m                          Traceback (most recent call last)",
      "\u001b[1;32m<ipython-input-13-870c8ec45532>\u001b[0m in \u001b[0;36m<module>\u001b[1;34m\u001b[0m\n\u001b[0;32m      3\u001b[0m \u001b[1;33m\u001b[0m\u001b[0m\n\u001b[0;32m      4\u001b[0m \u001b[1;33m\u001b[0m\u001b[0m\n\u001b[1;32m----> 5\u001b[1;33m \u001b[0mdb\u001b[0m\u001b[1;33m.\u001b[0m\u001b[0mexecute\u001b[0m\u001b[1;33m(\u001b[0m\u001b[1;34m'CREATE INDEX city_name ON npi(provider_business_practice_location_address_city_name)'\u001b[0m\u001b[1;33m)\u001b[0m\u001b[1;33m\u001b[0m\u001b[1;33m\u001b[0m\u001b[0m\n\u001b[0m\u001b[0;32m      6\u001b[0m \u001b[0mdb\u001b[0m\u001b[1;33m.\u001b[0m\u001b[0mexecute\u001b[0m\u001b[1;33m(\u001b[0m\u001b[1;34m'CREATE INDEX zip_code ON npi(provider_business_practice_location_address_postal_code)'\u001b[0m\u001b[1;33m)\u001b[0m\u001b[1;33m\u001b[0m\u001b[1;33m\u001b[0m\u001b[0m\n\u001b[0;32m      7\u001b[0m \u001b[0mdb\u001b[0m\u001b[1;33m.\u001b[0m\u001b[0mexecute\u001b[0m\u001b[1;33m(\u001b[0m\u001b[1;34m'CREATE INDEX taxonomy_code ON npi(healthcare_provider_taxonomy_code)'\u001b[0m\u001b[1;33m)\u001b[0m\u001b[1;33m\u001b[0m\u001b[1;33m\u001b[0m\u001b[0m\n",
      "\u001b[1;31mOperationalError\u001b[0m: index city_name already exists"
     ]
    }
   ],
   "source": [
    "db = sqlite3.connect('data/healthcare_bluebook.sqlite')\n",
    "\n",
    "db.execute('CREATE INDEX from_npi ON hop(from_npi)')\n",
    "db.execute('CREATE INDEX to_npi ON hop(to_npi)')\n",
    "db.execute('CREATE INDEX npi_col ON npi(npi)')\n",
    "db.execute('CREATE INDEX entity_type ON npi(entity_type_code)')\n",
    "db.execute('CREATE INDEX city_name ON npi(provider_business_practice_location_address_city_name)')\n",
    "db.execute('CREATE INDEX zip_code ON npi(provider_business_practice_location_address_postal_code)')\n",
    "db.execute('CREATE INDEX taxonomy_code ON npi(healthcare_provider_taxonomy_code)')\n",
    "\n",
    "db.close()"
   ]
  },
  {
   "cell_type": "code",
   "execution_count": 2,
   "metadata": {},
   "outputs": [
    {
     "name": "stdout",
     "output_type": "stream",
     "text": [
      "Table dropped... \n"
     ]
    }
   ],
   "source": [
    "#Connecting to sqlite\n",
    "conn = sqlite3.connect('data/healthcare_bluebook.sqlite')\n",
    "\n",
    "#Creating a cursor object using the cursor() method\n",
    "cursor = conn.cursor()\n",
    "\n",
    "#Doping EMPLOYEE table if already exists\n",
    "cursor.execute(\"DROP TABLE npi\")\n",
    "print(\"Table dropped... \")\n",
    "\n",
    "#Commit your changes in the database\n",
    "conn.commit()\n",
    "\n",
    "#Closing the connection\n",
    "conn.close()"
   ]
  }
 ],
 "metadata": {
  "kernelspec": {
   "display_name": "Python 3",
   "language": "python",
   "name": "python3"
  },
  "language_info": {
   "codemirror_mode": {
    "name": "ipython",
    "version": 3
   },
   "file_extension": ".py",
   "mimetype": "text/x-python",
   "name": "python",
   "nbconvert_exporter": "python",
   "pygments_lexer": "ipython3",
   "version": "3.8.5"
  }
 },
 "nbformat": 4,
 "nbformat_minor": 4
}
